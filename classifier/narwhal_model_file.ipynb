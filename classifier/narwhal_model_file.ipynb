{
  "nbformat": 4,
  "nbformat_minor": 0,
  "metadata": {
    "colab": {
      "name": "narwhal_model.ipynb",
      "provenance": [],
      "collapsed_sections": []
    },
    "kernelspec": {
      "name": "python3",
      "display_name": "Python 3"
    },
    "accelerator": "GPU"
  },
  "cells": [
    {
      "cell_type": "code",
      "metadata": {
        "id": "eY-X_FJP5uNM",
        "colab_type": "code",
        "outputId": "62cc583f-066d-4001-b429-9cc391c4d8a6",
        "colab": {
          "base_uri": "https://localhost:8080/",
          "height": 139
        }
      },
      "source": [
        "from tensorflow.python.client import device_lib\n",
        "\n",
        "for x in device_lib.list_local_devices():\n",
        "  if x.device_type == \"GPU\":\n",
        "    print(\"***** GPU Information *****\")\n",
        "    print(\"Device Name: \" , x.name)\n",
        "    print(\"Memory Limit: \" , \"%.2f\" % float(x.memory_limit/(1000*1000*1000)), \"GB\")\n",
        "    print(\"Description: \" , x.physical_device_desc)"
      ],
      "execution_count": 0,
      "outputs": [
        {
          "output_type": "display_data",
          "data": {
            "text/html": [
              "<p style=\"color: red;\">\n",
              "The default version of TensorFlow in Colab will soon switch to TensorFlow 2.x.<br>\n",
              "We recommend you <a href=\"https://www.tensorflow.org/guide/migrate\" target=\"_blank\">upgrade</a> now \n",
              "or ensure your notebook will continue to use TensorFlow 1.x via the <code>%tensorflow_version 1.x</code> magic:\n",
              "<a href=\"https://colab.research.google.com/notebooks/tensorflow_version.ipynb\" target=\"_blank\">more info</a>.</p>\n"
            ],
            "text/plain": [
              "<IPython.core.display.HTML object>"
            ]
          },
          "metadata": {
            "tags": []
          }
        },
        {
          "output_type": "stream",
          "text": [
            "***** GPU Information *****\n",
            "Device Name:  /device:GPU:0\n",
            "Memory Limit:  14.91 GB\n",
            "Description:  device: 0, name: Tesla T4, pci bus id: 0000:00:04.0, compute capability: 7.5\n"
          ],
          "name": "stdout"
        }
      ]
    },
    {
      "cell_type": "code",
      "metadata": {
        "id": "DhvWGoGTuB7k",
        "colab_type": "code",
        "outputId": "31bb7e20-5e2d-4194-96c4-118046e3513e",
        "colab": {
          "base_uri": "https://localhost:8080/",
          "height": 54
        }
      },
      "source": [
        "import tensorflow as tf\n",
        "from tensorflow import keras\n",
        "from keras import layers\n",
        "from keras import models\n",
        "from keras import optimizers\n",
        "from keras.utils import to_categorical\n",
        "from keras.preprocessing import image\n",
        "from keras.preprocessing.image import ImageDataGenerator\n",
        "import numpy as np\n",
        "import matplotlib.pyplot as plt\n",
        "import os\n",
        "import cv2\n",
        "import random\n",
        "from google.colab import drive\n",
        "\n",
        "drive.mount('/content/gdrive')"
      ],
      "execution_count": 0,
      "outputs": [
        {
          "output_type": "stream",
          "text": [
            "Using TensorFlow backend.\n"
          ],
          "name": "stderr"
        },
        {
          "output_type": "stream",
          "text": [
            "Drive already mounted at /content/gdrive; to attempt to forcibly remount, call drive.mount(\"/content/gdrive\", force_remount=True).\n"
          ],
          "name": "stdout"
        }
      ]
    },
    {
      "cell_type": "code",
      "metadata": {
        "id": "0iuWt_ZCT471",
        "colab_type": "code",
        "outputId": "230e50f2-4965-4116-e81f-76e0f716e8e1",
        "colab": {
          "base_uri": "https://localhost:8080/",
          "height": 575
        }
      },
      "source": [
        "# main training dataset directory\n",
        "DATADIR = '/content/gdrive/My Drive/animals/train/'\n",
        "\n",
        "# list of supported animals; each has its own file in the dataset\n",
        "CATEGORIES = [\"antelope\", \"bat\", \"beaver\", \"bobcat\", \"buffalo\", \"chihuahua\",\n",
        "              \"chimpanzee\", \"collie\", \"dalmatian\", \"german+shepherd\",\n",
        "              \"grizzly+bear\", \"hippopotamus\", \"horse\", \"killer+whale\", \"mole\",\n",
        "              \"moose\", \"mouse\", \"otter\", \"ox\", \"persian+cat\", \"raccoon\", \"rat\",\n",
        "              \"rhinoceros\", \"seal\", \"siamese+cat\", \"spider+monkey\", \"squirrel\",\n",
        "              \"walrus\", \"weasel\", \"wolf\"]\n",
        "\n",
        "# resize the images for consistency\n",
        "IMG_SIZE = 150\n",
        "\n",
        "# gather the images for training\n",
        "train_data = []\n",
        "\n",
        "for category in CATEGORIES:\n",
        "    path = os.path.join(DATADIR, category)\n",
        "    class_num = CATEGORIES.index(category)\n",
        "    for img in os.listdir(path):\n",
        "      img_array = cv2.imread(os.path.join(path,img))\n",
        "      new_array = cv2.resize(img_array, (IMG_SIZE, IMG_SIZE))\n",
        "      train_data.append([new_array, class_num])\n",
        "    print(\"finished with dir#\", class_num)"
      ],
      "execution_count": 0,
      "outputs": [
        {
          "output_type": "stream",
          "text": [
            "finished with dir# 0\n",
            "finished with dir# 1\n",
            "finished with dir# 2\n",
            "finished with dir# 3\n",
            "finished with dir# 4\n",
            "finished with dir# 5\n",
            "finished with dir# 6\n",
            "finished with dir# 7\n",
            "finished with dir# 8\n",
            "finished with dir# 9\n",
            "finished with dir# 10\n",
            "finished with dir# 11\n",
            "finished with dir# 12\n",
            "finished with dir# 13\n",
            "finished with dir# 14\n",
            "finished with dir# 15\n",
            "finished with dir# 16\n",
            "finished with dir# 17\n",
            "finished with dir# 18\n",
            "finished with dir# 19\n",
            "finished with dir# 20\n",
            "finished with dir# 21\n",
            "finished with dir# 22\n",
            "finished with dir# 23\n",
            "finished with dir# 24\n",
            "finished with dir# 25\n",
            "finished with dir# 26\n",
            "finished with dir# 27\n",
            "finished with dir# 28\n",
            "finished with dir# 29\n"
          ],
          "name": "stdout"
        }
      ]
    },
    {
      "cell_type": "code",
      "metadata": {
        "id": "ANPrQkF341Ti",
        "colab_type": "code",
        "colab": {}
      },
      "source": [
        "random.shuffle(train_data)\n",
        "\n",
        "train_images = []\n",
        "train_labels = []\n",
        "\n",
        "for features, label in train_data:\n",
        "  train_images.append(features)\n",
        "  train_labels.append(label)\n",
        "\n",
        "train_images = np.array(train_images).reshape(-1, IMG_SIZE, IMG_SIZE, 3)\n",
        "train_images = train_images / 255.0\n",
        "\n",
        "train_labels = to_categorical(train_labels)"
      ],
      "execution_count": 0,
      "outputs": []
    },
    {
      "cell_type": "code",
      "metadata": {
        "id": "rqJVct5N6vin",
        "colab_type": "code",
        "colab": {}
      },
      "source": [
        "def create_model():\n",
        "    model = models.Sequential()\n",
        "\n",
        "    model.add(layers.Conv2D(32, (3, 3), activation='relu', kernel_initializer='he_uniform', padding='same', input_shape=train_images.shape[1:]))\n",
        "    model.add(layers.Conv2D(32, (3, 3), activation='relu', kernel_initializer='he_uniform', padding='same'))\n",
        "    model.add(layers.MaxPooling2D((2, 2)))\n",
        "    model.add(layers.Dropout(0.3))\n",
        "    model.add(layers.Conv2D(32, (3, 3), activation='relu', kernel_initializer='he_uniform', padding='same'))\n",
        "    model.add(layers.Conv2D(32, (3, 3), activation='relu', kernel_initializer='he_uniform', padding='same'))\n",
        "    model.add(layers.MaxPooling2D((2, 2)))\n",
        "    model.add(layers.Dropout(0.4))\n",
        "    model.add(layers.Conv2D(64, (3, 3), activation='relu', kernel_initializer='he_uniform', padding='same'))\n",
        "    model.add(layers.Conv2D(64, (3, 3), activation='relu', kernel_initializer='he_uniform', padding='same'))\n",
        "    model.add(layers.MaxPooling2D((2, 2)))\n",
        "    model.add(layers.Dropout(0.5))\n",
        "    model.add(layers.Conv2D(64, (3, 3), activation='relu', kernel_initializer='he_uniform', padding='same'))\n",
        "    model.add(layers.Conv2D(64, (3, 3), activation='relu', kernel_initializer='he_uniform', padding='same'))\n",
        "    model.add(layers.MaxPooling2D((2, 2)))\n",
        "    #model.add(layers.Dropout(0.3))\n",
        "    model.add(layers.Flatten())\n",
        "    model.add(layers.Dropout(0.5))\n",
        "    model.add(layers.Dense(512, activation='relu'))\n",
        "    model.add(layers.Dense(30, activation='softmax'))\n",
        "\n",
        "    model.compile(\n",
        "        optimizer='adam',\n",
        "        loss='categorical_crossentropy', #sparse_categorical_crossentropy?\n",
        "        metrics=['accuracy']\n",
        "    )\n",
        "\n",
        "    return model"
      ],
      "execution_count": 0,
      "outputs": []
    },
    {
      "cell_type": "code",
      "metadata": {
        "id": "l28zqiwf8o4B",
        "colab_type": "code",
        "outputId": "f422d60f-73a4-47db-afea-d77e7eb92ebd",
        "colab": {
          "base_uri": "https://localhost:8080/",
          "height": 1000
        }
      },
      "source": [
        "model = create_model()\n",
        "\n",
        "epochs = 30 #100\n",
        "\n",
        "history = model.fit(\n",
        "    train_images, \n",
        "    train_labels, \n",
        "    epochs=epochs, \n",
        "    batch_size=64, \n",
        "    validation_split=0.2\n",
        ")"
      ],
      "execution_count": 0,
      "outputs": [
        {
          "output_type": "stream",
          "text": [
            "Train on 10410 samples, validate on 2603 samples\n",
            "Epoch 1/30\n",
            "10410/10410 [==============================] - 26s 3ms/step - loss: 3.5090 - acc: 0.0838 - val_loss: 3.3408 - val_acc: 0.0891\n",
            "Epoch 2/30\n",
            "10410/10410 [==============================] - 21s 2ms/step - loss: 3.1928 - acc: 0.1044 - val_loss: 3.3425 - val_acc: 0.0526\n",
            "Epoch 3/30\n",
            "10410/10410 [==============================] - 21s 2ms/step - loss: 3.0658 - acc: 0.1432 - val_loss: 3.0817 - val_acc: 0.1587\n",
            "Epoch 4/30\n",
            "10410/10410 [==============================] - 21s 2ms/step - loss: 2.8911 - acc: 0.1838 - val_loss: 2.8317 - val_acc: 0.2109\n",
            "Epoch 5/30\n",
            "10410/10410 [==============================] - 21s 2ms/step - loss: 2.7600 - acc: 0.2173 - val_loss: 2.7700 - val_acc: 0.2297\n",
            "Epoch 6/30\n",
            "10410/10410 [==============================] - 21s 2ms/step - loss: 2.6171 - acc: 0.2552 - val_loss: 2.6466 - val_acc: 0.2512\n",
            "Epoch 7/30\n",
            "10410/10410 [==============================] - 21s 2ms/step - loss: 2.5088 - acc: 0.2774 - val_loss: 2.6427 - val_acc: 0.2547\n",
            "Epoch 8/30\n",
            "10410/10410 [==============================] - 21s 2ms/step - loss: 2.3727 - acc: 0.3096 - val_loss: 2.4749 - val_acc: 0.2889\n",
            "Epoch 9/30\n",
            "10410/10410 [==============================] - 21s 2ms/step - loss: 2.2544 - acc: 0.3441 - val_loss: 2.4800 - val_acc: 0.2877\n",
            "Epoch 10/30\n",
            "10410/10410 [==============================] - 21s 2ms/step - loss: 2.1283 - acc: 0.3758 - val_loss: 2.3760 - val_acc: 0.3093\n",
            "Epoch 11/30\n",
            "10410/10410 [==============================] - 21s 2ms/step - loss: 2.0041 - acc: 0.4033 - val_loss: 2.3744 - val_acc: 0.3189\n",
            "Epoch 12/30\n",
            "10410/10410 [==============================] - 20s 2ms/step - loss: 1.8459 - acc: 0.4455 - val_loss: 2.3679 - val_acc: 0.3143\n",
            "Epoch 13/30\n",
            "10410/10410 [==============================] - 21s 2ms/step - loss: 1.6860 - acc: 0.4916 - val_loss: 2.3510 - val_acc: 0.3312\n",
            "Epoch 14/30\n",
            "10410/10410 [==============================] - 21s 2ms/step - loss: 1.5033 - acc: 0.5453 - val_loss: 2.4056 - val_acc: 0.3323\n",
            "Epoch 15/30\n",
            "10410/10410 [==============================] - 21s 2ms/step - loss: 1.3324 - acc: 0.5921 - val_loss: 2.5028 - val_acc: 0.3185\n",
            "Epoch 16/30\n",
            "10410/10410 [==============================] - 20s 2ms/step - loss: 1.1658 - acc: 0.6332 - val_loss: 2.5272 - val_acc: 0.3265\n",
            "Epoch 17/30\n",
            "10410/10410 [==============================] - 21s 2ms/step - loss: 0.9965 - acc: 0.6872 - val_loss: 2.7096 - val_acc: 0.3146\n",
            "Epoch 18/30\n",
            "10410/10410 [==============================] - 20s 2ms/step - loss: 0.8803 - acc: 0.7202 - val_loss: 2.7652 - val_acc: 0.3154\n",
            "Epoch 19/30\n",
            "10410/10410 [==============================] - 21s 2ms/step - loss: 0.7595 - acc: 0.7578 - val_loss: 2.9308 - val_acc: 0.3077\n",
            "Epoch 20/30\n",
            "10410/10410 [==============================] - 21s 2ms/step - loss: 0.6877 - acc: 0.7816 - val_loss: 2.9874 - val_acc: 0.3127\n",
            "Epoch 21/30\n",
            "10410/10410 [==============================] - 21s 2ms/step - loss: 0.5950 - acc: 0.8117 - val_loss: 3.0317 - val_acc: 0.3066\n",
            "Epoch 22/30\n",
            "10410/10410 [==============================] - 21s 2ms/step - loss: 0.5401 - acc: 0.8256 - val_loss: 3.2615 - val_acc: 0.3166\n",
            "Epoch 23/30\n",
            "10410/10410 [==============================] - 21s 2ms/step - loss: 0.4711 - acc: 0.8490 - val_loss: 3.3146 - val_acc: 0.3085\n",
            "Epoch 24/30\n",
            "10410/10410 [==============================] - 20s 2ms/step - loss: 0.4489 - acc: 0.8576 - val_loss: 3.5060 - val_acc: 0.2977\n",
            "Epoch 25/30\n",
            "10410/10410 [==============================] - 21s 2ms/step - loss: 0.3876 - acc: 0.8774 - val_loss: 3.4604 - val_acc: 0.3016\n",
            "Epoch 26/30\n",
            "10410/10410 [==============================] - 20s 2ms/step - loss: 0.3642 - acc: 0.8854 - val_loss: 3.7126 - val_acc: 0.3112\n",
            "Epoch 27/30\n",
            "10410/10410 [==============================] - 21s 2ms/step - loss: 0.3408 - acc: 0.8921 - val_loss: 3.7605 - val_acc: 0.3054\n",
            "Epoch 28/30\n",
            "10410/10410 [==============================] - 20s 2ms/step - loss: 0.3384 - acc: 0.8946 - val_loss: 3.6447 - val_acc: 0.3185\n",
            "Epoch 29/30\n",
            "10410/10410 [==============================] - 21s 2ms/step - loss: 0.2995 - acc: 0.9051 - val_loss: 3.7838 - val_acc: 0.3085\n",
            "Epoch 30/30\n",
            "10410/10410 [==============================] - 20s 2ms/step - loss: 0.2852 - acc: 0.9094 - val_loss: 3.8710 - val_acc: 0.2997\n"
          ],
          "name": "stdout"
        }
      ]
    },
    {
      "cell_type": "code",
      "metadata": {
        "id": "gHjD4f4e8swS",
        "colab_type": "code",
        "colab": {}
      },
      "source": [
        "history_dict = history.history\n",
        "loss_values = history_dict['loss']\n",
        "test_loss_values = history_dict['val_loss']\n",
        "epochs_range = range(1, epochs+1)"
      ],
      "execution_count": 0,
      "outputs": []
    },
    {
      "cell_type": "code",
      "metadata": {
        "id": "NKTZ2uHP8vHP",
        "colab_type": "code",
        "outputId": "7a859b53-3948-4b66-d49a-6581a06c46d3",
        "colab": {
          "base_uri": "https://localhost:8080/",
          "height": 295
        }
      },
      "source": [
        "plt.plot(epochs_range, loss_values, 'bo', label='Training loss')\n",
        "plt.plot(epochs_range, test_loss_values, 'ro', label='Test loss')\n",
        "plt.title('Training and test loss')\n",
        "plt.xlabel('Epochs')\n",
        "plt.ylabel('Loss')\n",
        "plt.legend()\n",
        "plt.show()"
      ],
      "execution_count": 0,
      "outputs": [
        {
          "output_type": "display_data",
          "data": {
            "image/png": "[encoded data removed]",
            "text/plain": [
              "<Figure size 432x288 with 1 Axes>"
            ]
          },
          "metadata": {
            "tags": []
          }
        }
      ]
    },
    {
      "cell_type": "code",
      "metadata": {
        "id": "CX3u4oOY8xpx",
        "colab_type": "code",
        "colab": {}
      },
      "source": [
        "acc_values = history_dict['acc']\n",
        "test_acc_values = history_dict['val_acc']"
      ],
      "execution_count": 0,
      "outputs": []
    },
    {
      "cell_type": "code",
      "metadata": {
        "id": "zhcIfWPx8z24",
        "colab_type": "code",
        "outputId": "7022b7c4-8cb4-490e-a9b7-ddc78a94e9fe",
        "colab": {
          "base_uri": "https://localhost:8080/",
          "height": 295
        }
      },
      "source": [
        "plt.plot(epochs_range, acc_values, 'bo', label='Training accuracy')\n",
        "plt.plot(epochs_range, test_acc_values, 'ro', label='Test accuracy')\n",
        "plt.title('Training and test accuracy')\n",
        "plt.xlabel('Epochs')\n",
        "plt.ylabel('Accuracy')\n",
        "plt.legend()\n",
        "plt.show()"
      ],
      "execution_count": 0,
      "outputs": [
        {
          "output_type": "display_data",
          "data": {
            "image/png": "[encoded data removed]",
            "text/plain": [
              "<Figure size 432x288 with 1 Axes>"
            ]
          },
          "metadata": {
            "tags": []
          }
        }
      ]
    },
    {
      "cell_type": "code",
      "metadata": {
        "id": "bEk9fTIlR8Wb",
        "colab_type": "code",
        "colab": {}
      },
      "source": [
        "#model.save('narwhal') <- if you want to\n",
        "\n",
        "#DATADIR = '/content/gdrive/My Drive/animals/test/'\n",
        "\n",
        "#IMG_SIZE = 100\n",
        "#test_data = []\n",
        "\n",
        "#for img in os.listdir(DATADIR):\n",
        "#   img_array = cv2.imread(os.path.join(DATADIR,img))\n",
        "#   new_array = cv2.resize(img_array, (IMG_SIZE, IMG_SIZE))\n",
        "#   test_data.append([new_array, class_num])\n",
        "\n",
        "#predictions = model.predict([test_data]) <- for running predictions on test data\n",
        "#print(np.argmax(predictions[0]))\n",
        "#plt.imshow(test_data[0])\n",
        "#plt.show()\n",
        "\n",
        "# just run a loop on the first 20 images and check manually if they're correct\n",
        "#test_data = np.array(test_data).reshape(-1, IMG_SIZE, IMG_SIZE, 3)\n",
        "#test_data = test_data / 255.0"
      ],
      "execution_count": 0,
      "outputs": []
    }
  ]
}